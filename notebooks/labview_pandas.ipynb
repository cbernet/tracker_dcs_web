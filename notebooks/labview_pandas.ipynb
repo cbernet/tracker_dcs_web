{
 "cells": [
  {
   "cell_type": "code",
   "execution_count": 1,
   "id": "34bbe4ae",
   "metadata": {},
   "outputs": [],
   "source": [
    "import pandas as pd\n",
    "from tracker_dcs_web.utils.locate import abspath_data\n"
   ]
  },
  {
   "cell_type": "markdown",
   "id": "98972a02",
   "metadata": {},
   "source": [
    "## Initialize header and data line "
   ]
  },
  {
   "cell_type": "code",
   "execution_count": 76,
   "id": "8f5ac03e",
   "metadata": {},
   "outputs": [
    {
     "data": {
      "text/html": [
       "<div>\n",
       "<style scoped>\n",
       "    .dataframe tbody tr th:only-of-type {\n",
       "        vertical-align: middle;\n",
       "    }\n",
       "\n",
       "    .dataframe tbody tr th {\n",
       "        vertical-align: top;\n",
       "    }\n",
       "\n",
       "    .dataframe thead th {\n",
       "        text-align: right;\n",
       "    }\n",
       "</style>\n",
       "<table border=\"1\" class=\"dataframe\">\n",
       "  <thead>\n",
       "    <tr style=\"text-align: right;\">\n",
       "      <th></th>\n",
       "      <th>Times[s]</th>\n",
       "      <th>Date</th>\n",
       "      <th>H:M:S</th>\n",
       "      <th>0 (PS)</th>\n",
       "      <th>2 (PS)</th>\n",
       "      <th>3 (PS)</th>\n",
       "      <th>7 (PS)</th>\n",
       "      <th>8 (PS)</th>\n",
       "      <th>9 (PS)</th>\n",
       "      <th>10 (PS)</th>\n",
       "      <th>...</th>\n",
       "      <th>1_Tg [oC]</th>\n",
       "      <th>1_M [Mol/l]</th>\n",
       "      <th>2_T [oC]</th>\n",
       "      <th>2_Igro. [%]</th>\n",
       "      <th>2_Tr [oC]</th>\n",
       "      <th>2_Tg [oC]</th>\n",
       "      <th>2_M [Mol/l]</th>\n",
       "      <th>PS [V]</th>\n",
       "      <th>2S [V]</th>\n",
       "      <th>P [mbar]</th>\n",
       "    </tr>\n",
       "  </thead>\n",
       "  <tbody>\n",
       "  </tbody>\n",
       "</table>\n",
       "<p>0 rows × 69 columns</p>\n",
       "</div>"
      ],
      "text/plain": [
       "Empty DataFrame\n",
       "Columns: [Times[s], Date, H:M:S, 0 (PS), 2 (PS), 3 (PS), 7 (PS), 8 (PS), 9 (PS), 10 (PS), 11 (PS), 14 (PS), 15 (PS), 20 (PS), 21 (PS), 23 (PS), 24 (PS), 28 (PS), 30 (PS), 31 (PS), 1 (2S), 26 (2S), 33 (2S), 35 (2S), 36 (2S), 37 (2S), 38 (2S), 39 (2S), 40 (2S), 41 (2S), 42 (2S), 43 (2S), 44 (2S), 45 (2S), 46 (2S), 47 (2S), 48 (2S), 49 (2S), 50 (2S), 51 (2S), 52 (2S), 53 (2S), 54 (2S), 55 (2S), 56 (2S), 57 (2S), 58 (2S), 59 (2S), 60 (2S), 63 (2S), 64 (2S), 69, 70, 117, 118, 119, 1_T [oC], 1_Igro. [%], 1_Tr [oC], 1_Tg [oC], 1_M [Mol/l], 2_T [oC], 2_Igro. [%], 2_Tr [oC], 2_Tg [oC], 2_M [Mol/l], PS [V], 2S [V], P [mbar]]\n",
       "Index: []\n",
       "\n",
       "[0 rows x 69 columns]"
      ]
     },
     "execution_count": 76,
     "metadata": {},
     "output_type": "execute_result"
    }
   ],
   "source": [
    "header = pd.read_csv(abspath_data(\"labview/header.txt\"), sep=\"\\t\")\n",
    "header"
   ]
  },
  {
   "cell_type": "code",
   "execution_count": 77,
   "id": "72b91d83",
   "metadata": {},
   "outputs": [
    {
     "data": {
      "text/plain": [
       "Times[s]       object\n",
       "Date           object\n",
       "H:M:S          object\n",
       "0 (PS)         object\n",
       "2 (PS)         object\n",
       "                ...  \n",
       "2_Tg [oC]      object\n",
       "2_M [Mol/l]    object\n",
       "PS [V]         object\n",
       "2S [V]         object\n",
       "P [mbar]       object\n",
       "Length: 69, dtype: object"
      ]
     },
     "execution_count": 77,
     "metadata": {},
     "output_type": "execute_result"
    }
   ],
   "source": [
    "header.dtypes"
   ]
  },
  {
   "cell_type": "code",
   "execution_count": 31,
   "id": "15078ff4",
   "metadata": {},
   "outputs": [
    {
     "data": {
      "text/html": [
       "<div>\n",
       "<style scoped>\n",
       "    .dataframe tbody tr th:only-of-type {\n",
       "        vertical-align: middle;\n",
       "    }\n",
       "\n",
       "    .dataframe tbody tr th {\n",
       "        vertical-align: top;\n",
       "    }\n",
       "\n",
       "    .dataframe thead th {\n",
       "        text-align: right;\n",
       "    }\n",
       "</style>\n",
       "<table border=\"1\" class=\"dataframe\">\n",
       "  <thead>\n",
       "    <tr style=\"text-align: right;\">\n",
       "      <th></th>\n",
       "      <th>3735788762</th>\n",
       "      <th>19/05/2022</th>\n",
       "      <th>09:06:02</th>\n",
       "      <th>25.220262</th>\n",
       "      <th>25.492665</th>\n",
       "      <th>25.416732</th>\n",
       "      <th>24.748314</th>\n",
       "      <th>25.342578</th>\n",
       "      <th>25.606625</th>\n",
       "      <th>25.285917</th>\n",
       "      <th>...</th>\n",
       "      <th>-32.094082</th>\n",
       "      <th>301.325073</th>\n",
       "      <th>26.328125</th>\n",
       "      <th>0.888999</th>\n",
       "      <th>-35.383133</th>\n",
       "      <th>-32.134254</th>\n",
       "      <th>300.046326</th>\n",
       "      <th>-4.962708E-5</th>\n",
       "      <th>0.000581</th>\n",
       "      <th>57.425315</th>\n",
       "    </tr>\n",
       "  </thead>\n",
       "  <tbody>\n",
       "  </tbody>\n",
       "</table>\n",
       "<p>0 rows × 69 columns</p>\n",
       "</div>"
      ],
      "text/plain": [
       "Empty DataFrame\n",
       "Columns: [3735788762, 19/05/2022, 09:06:02, 25.220262, 25.492665, 25.416732, 24.748314, 25.342578, 25.606625, 25.285917, 25.231803, 25.071761, 25.328125, 25.403072, 25.201204, 25.380334, 25.467718, 24.985025, 26.008096, 25.020815, 25.542846, 24.5814, 24.9203, 24.723423, 25.436421, 24.84001, 25.000569, 23.835666, 24.756364, 25.1043, 24.780646, 24.546905, 24.791294, 24.635567, 25.067926, 24.571301, 25.092664, 25.19197, 24.761909, 24.843554, 24.856842, 24.403449, 24.612205, 25.193757, 25.110663, 24.554697, 24.616065, 25.334414, 23.642995, 24.775131, 25.594101, 27.724789, 18.245478, 28.510299, 28.703889, 28.756511, 26.513672, 0.883696, -35.340282, -32.094082, 301.325073, 26.328125, 0.888999, -35.383133, -32.134254, 300.046326, -4.962708E-5, 0.000581, 57.425315]\n",
       "Index: []\n",
       "\n",
       "[0 rows x 69 columns]"
      ]
     },
     "execution_count": 31,
     "metadata": {},
     "output_type": "execute_result"
    }
   ],
   "source": [
    "mline = pd.read_csv(abspath_data(\"labview/measure_line.txt\"), sep=\"\\t\")\n",
    "mline"
   ]
  },
  {
   "cell_type": "code",
   "execution_count": 36,
   "id": "e5ac5207",
   "metadata": {},
   "outputs": [
    {
     "name": "stdout",
     "output_type": "stream",
     "text": [
      "['3735788762', '19/05/2022', '09:06:02', '25.220262', '25.492665', '25.416732', '24.748314', '25.342578', '25.606625', '25.285917', '25.231803', '25.071761', '25.328125', '25.403072', '25.201204', '25.380334', '25.467718', '24.985025', '26.008096', '25.020815', '25.542846', '24.5814', '24.9203', '24.723423', '25.436421', '24.84001', '25.000569', '23.835666', '24.756364', '25.1043', '24.780646', '24.546905', '24.791294', '24.635567', '25.067926', '24.571301', '25.092664', '25.19197', '24.761909', '24.843554', '24.856842', '24.403449', '24.612205', '25.193757', '25.110663', '24.554697', '24.616065', '25.334414', '23.642995', '24.775131', '25.594101', '27.724789', '18.245478', '28.510299', '28.703889', '28.756511', '26.513672', '0.883696', '-35.340282', '-32.094082', '301.325073', '26.328125', '0.888999', '-35.383133', '-32.134254', '300.046326', '-4.962708E-5', '0.000581', '57.425315']\n"
     ]
    }
   ],
   "source": [
    "with open(abspath_data(\"labview/measure_line.txt\")) as ifile: \n",
    "    mline = ifile.read().strip().split(\"\\t\")\n",
    "print(mline)"
   ]
  },
  {
   "cell_type": "code",
   "execution_count": 37,
   "id": "9a51b2c0",
   "metadata": {},
   "outputs": [
    {
     "data": {
      "text/html": [
       "<div>\n",
       "<style scoped>\n",
       "    .dataframe tbody tr th:only-of-type {\n",
       "        vertical-align: middle;\n",
       "    }\n",
       "\n",
       "    .dataframe tbody tr th {\n",
       "        vertical-align: top;\n",
       "    }\n",
       "\n",
       "    .dataframe thead th {\n",
       "        text-align: right;\n",
       "    }\n",
       "</style>\n",
       "<table border=\"1\" class=\"dataframe\">\n",
       "  <thead>\n",
       "    <tr style=\"text-align: right;\">\n",
       "      <th></th>\n",
       "      <th>Times[s]</th>\n",
       "      <th>Date</th>\n",
       "      <th>H:M:S</th>\n",
       "      <th>0 (PS)</th>\n",
       "      <th>2 (PS)</th>\n",
       "      <th>3 (PS)</th>\n",
       "      <th>7 (PS)</th>\n",
       "      <th>8 (PS)</th>\n",
       "      <th>9 (PS)</th>\n",
       "      <th>10 (PS)</th>\n",
       "      <th>...</th>\n",
       "      <th>1_Tg [oC]</th>\n",
       "      <th>1_M [Mol/l]</th>\n",
       "      <th>2_T [oC]</th>\n",
       "      <th>2_Igro. [%]</th>\n",
       "      <th>2_Tr [oC]</th>\n",
       "      <th>2_Tg [oC]</th>\n",
       "      <th>2_M [Mol/l]</th>\n",
       "      <th>PS [V]</th>\n",
       "      <th>2S [V]</th>\n",
       "      <th>P [mbar]</th>\n",
       "    </tr>\n",
       "  </thead>\n",
       "  <tbody>\n",
       "    <tr>\n",
       "      <th>0</th>\n",
       "      <td>3735788762</td>\n",
       "      <td>19/05/2022</td>\n",
       "      <td>09:06:02</td>\n",
       "      <td>25.220262</td>\n",
       "      <td>25.492665</td>\n",
       "      <td>25.416732</td>\n",
       "      <td>24.748314</td>\n",
       "      <td>25.342578</td>\n",
       "      <td>25.606625</td>\n",
       "      <td>25.285917</td>\n",
       "      <td>...</td>\n",
       "      <td>-32.094082</td>\n",
       "      <td>301.325073</td>\n",
       "      <td>26.328125</td>\n",
       "      <td>0.888999</td>\n",
       "      <td>-35.383133</td>\n",
       "      <td>-32.134254</td>\n",
       "      <td>300.046326</td>\n",
       "      <td>-4.962708E-5</td>\n",
       "      <td>0.000581</td>\n",
       "      <td>57.425315</td>\n",
       "    </tr>\n",
       "  </tbody>\n",
       "</table>\n",
       "<p>1 rows × 69 columns</p>\n",
       "</div>"
      ],
      "text/plain": [
       "     Times[s]        Date     H:M:S     0 (PS)     2 (PS)     3 (PS)  \\\n",
       "0  3735788762  19/05/2022  09:06:02  25.220262  25.492665  25.416732   \n",
       "\n",
       "      7 (PS)     8 (PS)     9 (PS)    10 (PS)  ...   1_Tg [oC] 1_M [Mol/l]  \\\n",
       "0  24.748314  25.342578  25.606625  25.285917  ...  -32.094082  301.325073   \n",
       "\n",
       "    2_T [oC] 2_Igro. [%]   2_Tr [oC]   2_Tg [oC] 2_M [Mol/l]        PS [V]  \\\n",
       "0  26.328125    0.888999  -35.383133  -32.134254  300.046326  -4.962708E-5   \n",
       "\n",
       "     2S [V]   P [mbar]  \n",
       "0  0.000581  57.425315  \n",
       "\n",
       "[1 rows x 69 columns]"
      ]
     },
     "execution_count": 37,
     "metadata": {},
     "output_type": "execute_result"
    }
   ],
   "source": [
    "# header.loc[len(header)] = mline\n",
    "# header"
   ]
  },
  {
   "cell_type": "code",
   "execution_count": 49,
   "id": "6c4d1aa1",
   "metadata": {},
   "outputs": [
    {
     "data": {
      "text/html": [
       "<div>\n",
       "<style scoped>\n",
       "    .dataframe tbody tr th:only-of-type {\n",
       "        vertical-align: middle;\n",
       "    }\n",
       "\n",
       "    .dataframe tbody tr th {\n",
       "        vertical-align: top;\n",
       "    }\n",
       "\n",
       "    .dataframe thead th {\n",
       "        text-align: right;\n",
       "    }\n",
       "</style>\n",
       "<table border=\"1\" class=\"dataframe\">\n",
       "  <thead>\n",
       "    <tr style=\"text-align: right;\">\n",
       "      <th></th>\n",
       "      <th>Times[s]</th>\n",
       "      <th>Date</th>\n",
       "      <th>H:M:S</th>\n",
       "      <th>0 (PS)</th>\n",
       "      <th>2 (PS)</th>\n",
       "      <th>3 (PS)</th>\n",
       "      <th>7 (PS)</th>\n",
       "      <th>8 (PS)</th>\n",
       "      <th>9 (PS)</th>\n",
       "      <th>10 (PS)</th>\n",
       "      <th>...</th>\n",
       "      <th>1_Tg [oC]</th>\n",
       "      <th>1_M [Mol/l]</th>\n",
       "      <th>2_T [oC]</th>\n",
       "      <th>2_Igro. [%]</th>\n",
       "      <th>2_Tr [oC]</th>\n",
       "      <th>2_Tg [oC]</th>\n",
       "      <th>2_M [Mol/l]</th>\n",
       "      <th>PS [V]</th>\n",
       "      <th>2S [V]</th>\n",
       "      <th>P [mbar]</th>\n",
       "    </tr>\n",
       "  </thead>\n",
       "  <tbody>\n",
       "    <tr>\n",
       "      <th>0</th>\n",
       "      <td>3735788762</td>\n",
       "      <td>19/05/2022</td>\n",
       "      <td>09:06:02</td>\n",
       "      <td>25.220262</td>\n",
       "      <td>25.492665</td>\n",
       "      <td>25.416732</td>\n",
       "      <td>24.748314</td>\n",
       "      <td>25.342578</td>\n",
       "      <td>25.606625</td>\n",
       "      <td>25.285917</td>\n",
       "      <td>...</td>\n",
       "      <td>-32.094082</td>\n",
       "      <td>301.325073</td>\n",
       "      <td>26.328125</td>\n",
       "      <td>0.888999</td>\n",
       "      <td>-35.383133</td>\n",
       "      <td>-32.134254</td>\n",
       "      <td>300.046326</td>\n",
       "      <td>-4.962708E-5</td>\n",
       "      <td>0.000581</td>\n",
       "      <td>57.425315</td>\n",
       "    </tr>\n",
       "  </tbody>\n",
       "</table>\n",
       "<p>1 rows × 69 columns</p>\n",
       "</div>"
      ],
      "text/plain": [
       "     Times[s]        Date     H:M:S     0 (PS)     2 (PS)     3 (PS)  \\\n",
       "0  3735788762  19/05/2022  09:06:02  25.220262  25.492665  25.416732   \n",
       "\n",
       "      7 (PS)     8 (PS)     9 (PS)    10 (PS)  ...   1_Tg [oC] 1_M [Mol/l]  \\\n",
       "0  24.748314  25.342578  25.606625  25.285917  ...  -32.094082  301.325073   \n",
       "\n",
       "    2_T [oC] 2_Igro. [%]   2_Tr [oC]   2_Tg [oC] 2_M [Mol/l]        PS [V]  \\\n",
       "0  26.328125    0.888999  -35.383133  -32.134254  300.046326  -4.962708E-5   \n",
       "\n",
       "     2S [V]   P [mbar]  \n",
       "0  0.000581  57.425315  \n",
       "\n",
       "[1 rows x 69 columns]"
      ]
     },
     "execution_count": 49,
     "metadata": {},
     "output_type": "execute_result"
    }
   ],
   "source": [
    "df = pd.DataFrame(data=[mline], columns=header.columns)\n",
    "df.head()"
   ]
  },
  {
   "cell_type": "markdown",
   "id": "e45ebb94",
   "metadata": {},
   "source": [
    "## Test header / data inconsistencies"
   ]
  },
  {
   "cell_type": "code",
   "execution_count": 44,
   "id": "df94d6fa",
   "metadata": {},
   "outputs": [
    {
     "name": "stdout",
     "output_type": "stream",
     "text": [
      "69 columns passed, passed data had 68 columns\n"
     ]
    }
   ],
   "source": [
    "import copy\n",
    "bad_mline = copy.copy(mline) \n",
    "bad_mline.pop()\n",
    "len(bad_mline)\n",
    "\n",
    "try: \n",
    "    df = pd.DataFrame(data=[bad_mline], columns=header.columns)\n",
    "except ValueError as err:\n",
    "    print(err)\n",
    "    pass"
   ]
  },
  {
   "cell_type": "markdown",
   "id": "82678bc8",
   "metadata": {},
   "source": [
    "## Parsing\n",
    "\n",
    "### Deal with time "
   ]
  },
  {
   "cell_type": "code",
   "execution_count": 86,
   "id": "e1dc4f64",
   "metadata": {},
   "outputs": [
    {
     "data": {
      "text/html": [
       "<div>\n",
       "<style scoped>\n",
       "    .dataframe tbody tr th:only-of-type {\n",
       "        vertical-align: middle;\n",
       "    }\n",
       "\n",
       "    .dataframe tbody tr th {\n",
       "        vertical-align: top;\n",
       "    }\n",
       "\n",
       "    .dataframe thead th {\n",
       "        text-align: right;\n",
       "    }\n",
       "</style>\n",
       "<table border=\"1\" class=\"dataframe\">\n",
       "  <thead>\n",
       "    <tr style=\"text-align: right;\">\n",
       "      <th></th>\n",
       "      <th>0 (PS)</th>\n",
       "      <th>2 (PS)</th>\n",
       "      <th>3 (PS)</th>\n",
       "      <th>7 (PS)</th>\n",
       "      <th>8 (PS)</th>\n",
       "      <th>9 (PS)</th>\n",
       "      <th>10 (PS)</th>\n",
       "      <th>11 (PS)</th>\n",
       "      <th>14 (PS)</th>\n",
       "      <th>15 (PS)</th>\n",
       "      <th>...</th>\n",
       "      <th>1_M [Mol/l]</th>\n",
       "      <th>2_T [oC]</th>\n",
       "      <th>2_Igro. [%]</th>\n",
       "      <th>2_Tr [oC]</th>\n",
       "      <th>2_Tg [oC]</th>\n",
       "      <th>2_M [Mol/l]</th>\n",
       "      <th>PS [V]</th>\n",
       "      <th>2S [V]</th>\n",
       "      <th>P [mbar]</th>\n",
       "      <th>Datetime_ns</th>\n",
       "    </tr>\n",
       "  </thead>\n",
       "  <tbody>\n",
       "    <tr>\n",
       "      <th>0</th>\n",
       "      <td>25.220262</td>\n",
       "      <td>25.492665</td>\n",
       "      <td>25.416732</td>\n",
       "      <td>24.748314</td>\n",
       "      <td>25.342578</td>\n",
       "      <td>25.606625</td>\n",
       "      <td>25.285917</td>\n",
       "      <td>25.231803</td>\n",
       "      <td>25.071761</td>\n",
       "      <td>25.328125</td>\n",
       "      <td>...</td>\n",
       "      <td>301.325073</td>\n",
       "      <td>26.328125</td>\n",
       "      <td>0.888999</td>\n",
       "      <td>-35.383133</td>\n",
       "      <td>-32.134254</td>\n",
       "      <td>300.046326</td>\n",
       "      <td>-4.962708E-5</td>\n",
       "      <td>0.000581</td>\n",
       "      <td>57.425315</td>\n",
       "      <td>2022-05-19 09:06:02</td>\n",
       "    </tr>\n",
       "  </tbody>\n",
       "</table>\n",
       "<p>1 rows × 67 columns</p>\n",
       "</div>"
      ],
      "text/plain": [
       "      0 (PS)     2 (PS)     3 (PS)     7 (PS)     8 (PS)     9 (PS)  \\\n",
       "0  25.220262  25.492665  25.416732  24.748314  25.342578  25.606625   \n",
       "\n",
       "     10 (PS)    11 (PS)    14 (PS)    15 (PS)  ... 1_M [Mol/l]   2_T [oC]  \\\n",
       "0  25.285917  25.231803  25.071761  25.328125  ...  301.325073  26.328125   \n",
       "\n",
       "  2_Igro. [%]   2_Tr [oC]   2_Tg [oC] 2_M [Mol/l]        PS [V]    2S [V]  \\\n",
       "0    0.888999  -35.383133  -32.134254  300.046326  -4.962708E-5  0.000581   \n",
       "\n",
       "    P [mbar]         Datetime_ns  \n",
       "0  57.425315 2022-05-19 09:06:02  \n",
       "\n",
       "[1 rows x 67 columns]"
      ]
     },
     "execution_count": 86,
     "metadata": {},
     "output_type": "execute_result"
    }
   ],
   "source": [
    "pdf = df.copy()\n",
    "# pdf[\"Date\"] = pd.to_datetime(df[\"Date\"], format=\"%d/%m/%Y\")\n",
    "# pdf[\"Time\"] = pd.to_datetime(df[\"H:M:S\"], format=\"%H:%M:%S\")\n",
    "pdf[\"Datetime_ns\"] = pd.to_datetime(pdf[\"Date\"] + ' ' + pdf[\"H:M:S\"], format=\"%d/%m/%Y %H:%M:%S\")\n",
    "pdf = pdf.drop(columns=[\"Times[s]\",\"Date\", \"H:M:S\"])\n",
    "pdf"
   ]
  },
  {
   "cell_type": "markdown",
   "id": "469ffc0e",
   "metadata": {},
   "source": [
    "### Convert to numeric"
   ]
  },
  {
   "cell_type": "code",
   "execution_count": 87,
   "id": "d076414e",
   "metadata": {},
   "outputs": [],
   "source": [
    "for col in pdf.columns: \n",
    "    pdf[col] = pd.to_numeric(pdf[col])"
   ]
  },
  {
   "cell_type": "code",
   "execution_count": 97,
   "id": "a9d1c80e",
   "metadata": {},
   "outputs": [
    {
     "name": "stdout",
     "output_type": "stream",
     "text": [
      "      0 (PS)     2 (PS)     3 (PS)     7 (PS)     8 (PS)     9 (PS)  \\\n",
      "0  25.220262  25.492665  25.416732  24.748314  25.342578  25.606625   \n",
      "\n",
      "     10 (PS)    11 (PS)    14 (PS)    15 (PS)  ...  1_M [Mol/l]   2_T [oC]  \\\n",
      "0  25.285917  25.231803  25.071761  25.328125  ...   301.325073  26.328125   \n",
      "\n",
      "   2_Igro. [%]  2_Tr [oC]  2_Tg [oC]  2_M [Mol/l]   PS [V]    2S [V]  \\\n",
      "0     0.888999 -35.383133 -32.134254   300.046326 -0.00005  0.000581   \n",
      "\n",
      "    P [mbar]          Datetime_ns  \n",
      "0  57.425315  1652951162000000000  \n",
      "\n",
      "[1 rows x 67 columns]\n"
     ]
    }
   ],
   "source": [
    "print(pdf.head())"
   ]
  },
  {
   "cell_type": "markdown",
   "id": "260df3f6",
   "metadata": {},
   "source": [
    "### To json "
   ]
  },
  {
   "cell_type": "code",
   "execution_count": 94,
   "id": "ae27e2f7",
   "metadata": {},
   "outputs": [
    {
     "data": {
      "text/plain": [
       "[{'0 (PS)': 25.220262,\n",
       "  '2 (PS)': 25.492665,\n",
       "  '3 (PS)': 25.416732,\n",
       "  '7 (PS)': 24.748314,\n",
       "  '8 (PS)': 25.342578,\n",
       "  '9 (PS)': 25.606625,\n",
       "  '10 (PS)': 25.285917,\n",
       "  '11 (PS)': 25.231803,\n",
       "  '14 (PS)': 25.071761,\n",
       "  '15 (PS)': 25.328125,\n",
       "  '20 (PS)': 25.403072,\n",
       "  '21 (PS)': 25.201204,\n",
       "  '23 (PS)': 25.380334,\n",
       "  '24 (PS)': 25.467718,\n",
       "  '28 (PS)': 24.985025,\n",
       "  '30 (PS)': 26.008096,\n",
       "  '31 (PS)': 25.020815,\n",
       "  '1 (2S)': 25.542846,\n",
       "  '26 (2S)': 24.5814,\n",
       "  '33 (2S)': 24.9203,\n",
       "  '35 (2S)': 24.723423,\n",
       "  '36 (2S)': 25.436421,\n",
       "  '37 (2S)': 24.84001,\n",
       "  '38 (2S)': 25.000569,\n",
       "  '39 (2S)': 23.835666,\n",
       "  '40 (2S)': 24.756364,\n",
       "  '41 (2S)': 25.1043,\n",
       "  '42 (2S)': 24.780646,\n",
       "  '43 (2S)': 24.546905,\n",
       "  '44 (2S)': 24.791294,\n",
       "  '45 (2S)': 24.635567,\n",
       "  '46 (2S)': 25.067926,\n",
       "  '47 (2S)': 24.571301,\n",
       "  '48 (2S)': 25.092664,\n",
       "  '49 (2S)': 25.19197,\n",
       "  '50 (2S)': 24.761909,\n",
       "  '51 (2S)': 24.843554,\n",
       "  '52 (2S)': 24.856842,\n",
       "  '53 (2S)': 24.403449,\n",
       "  '54 (2S)': 24.612205,\n",
       "  '55 (2S)': 25.193757,\n",
       "  '56 (2S)': 25.110663,\n",
       "  '57 (2S)': 24.554697,\n",
       "  '58 (2S)': 24.616065,\n",
       "  '59 (2S)': 25.334414,\n",
       "  '60 (2S)': 23.642995,\n",
       "  '63 (2S)': 24.775131,\n",
       "  '64 (2S)': 25.594101,\n",
       "  '69': 27.724789,\n",
       "  '70': 18.245478,\n",
       "  '117': 28.510299,\n",
       "  '118': 28.703889,\n",
       "  '119': 28.756511,\n",
       "  '1_T [oC]': 26.513672,\n",
       "  '1_Igro. [%]': 0.883696,\n",
       "  '1_Tr [oC]': -35.340282,\n",
       "  '1_Tg [oC]': -32.094082,\n",
       "  '1_M [Mol/l]': 301.325073,\n",
       "  '2_T [oC]': 26.328125,\n",
       "  '2_Igro. [%]': 0.888999,\n",
       "  '2_Tr [oC]': -35.383133,\n",
       "  '2_Tg [oC]': -32.134254,\n",
       "  '2_M [Mol/l]': 300.046326,\n",
       "  'PS [V]': -4.962708e-05,\n",
       "  '2S [V]': 0.000581,\n",
       "  'P [mbar]': 57.425315,\n",
       "  'Datetime_ns': 1652951162000000000}]"
      ]
     },
     "execution_count": 94,
     "metadata": {},
     "output_type": "execute_result"
    }
   ],
   "source": [
    "pdf.to_dict(orient=\"records\")"
   ]
  },
  {
   "cell_type": "code",
   "execution_count": null,
   "id": "4313589c",
   "metadata": {},
   "outputs": [],
   "source": []
  }
 ],
 "metadata": {
  "kernelspec": {
   "display_name": "Python 3 (ipykernel)",
   "language": "python",
   "name": "python3"
  },
  "language_info": {
   "codemirror_mode": {
    "name": "ipython",
    "version": 3
   },
   "file_extension": ".py",
   "mimetype": "text/x-python",
   "name": "python",
   "nbconvert_exporter": "python",
   "pygments_lexer": "ipython3",
   "version": "3.9.12"
  }
 },
 "nbformat": 4,
 "nbformat_minor": 5
}
